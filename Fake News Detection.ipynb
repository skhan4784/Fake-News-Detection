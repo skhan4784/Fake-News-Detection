{
 "cells": [
  {
   "cell_type": "code",
   "execution_count": 1,
   "id": "fd0025f9",
   "metadata": {},
   "outputs": [],
   "source": [
    "import numpy as np\n",
    "import pandas as pd\n",
    "import re\n",
    "from nltk.corpus import stopwords\n",
    "from nltk.stem.porter import PorterStemmer\n",
    "from sklearn.feature_extraction.text import TfidfVectorizer\n",
    "from sklearn.model_selection import train_test_split\n",
    "from sklearn.linear_model import LogisticRegression\n",
    "from sklearn.metrics import accuracy_score"
   ]
  },
  {
   "cell_type": "code",
   "execution_count": 2,
   "id": "9a846c61",
   "metadata": {},
   "outputs": [
    {
     "name": "stderr",
     "output_type": "stream",
     "text": [
      "[nltk_data] Downloading package stopwords to\n",
      "[nltk_data]     C:\\Users\\Shoaib\\AppData\\Roaming\\nltk_data...\n",
      "[nltk_data]   Unzipping corpora\\stopwords.zip.\n"
     ]
    },
    {
     "data": {
      "text/plain": [
       "True"
      ]
     },
     "execution_count": 2,
     "metadata": {},
     "output_type": "execute_result"
    }
   ],
   "source": [
    "import nltk\n",
    "nltk.download('stopwords')"
   ]
  },
  {
   "cell_type": "code",
   "execution_count": 3,
   "id": "9148f866",
   "metadata": {},
   "outputs": [
    {
     "name": "stdout",
     "output_type": "stream",
     "text": [
      "['i', 'me', 'my', 'myself', 'we', 'our', 'ours', 'ourselves', 'you', \"you're\", \"you've\", \"you'll\", \"you'd\", 'your', 'yours', 'yourself', 'yourselves', 'he', 'him', 'his', 'himself', 'she', \"she's\", 'her', 'hers', 'herself', 'it', \"it's\", 'its', 'itself', 'they', 'them', 'their', 'theirs', 'themselves', 'what', 'which', 'who', 'whom', 'this', 'that', \"that'll\", 'these', 'those', 'am', 'is', 'are', 'was', 'were', 'be', 'been', 'being', 'have', 'has', 'had', 'having', 'do', 'does', 'did', 'doing', 'a', 'an', 'the', 'and', 'but', 'if', 'or', 'because', 'as', 'until', 'while', 'of', 'at', 'by', 'for', 'with', 'about', 'against', 'between', 'into', 'through', 'during', 'before', 'after', 'above', 'below', 'to', 'from', 'up', 'down', 'in', 'out', 'on', 'off', 'over', 'under', 'again', 'further', 'then', 'once', 'here', 'there', 'when', 'where', 'why', 'how', 'all', 'any', 'both', 'each', 'few', 'more', 'most', 'other', 'some', 'such', 'no', 'nor', 'not', 'only', 'own', 'same', 'so', 'than', 'too', 'very', 's', 't', 'can', 'will', 'just', 'don', \"don't\", 'should', \"should've\", 'now', 'd', 'll', 'm', 'o', 're', 've', 'y', 'ain', 'aren', \"aren't\", 'couldn', \"couldn't\", 'didn', \"didn't\", 'doesn', \"doesn't\", 'hadn', \"hadn't\", 'hasn', \"hasn't\", 'haven', \"haven't\", 'isn', \"isn't\", 'ma', 'mightn', \"mightn't\", 'mustn', \"mustn't\", 'needn', \"needn't\", 'shan', \"shan't\", 'shouldn', \"shouldn't\", 'wasn', \"wasn't\", 'weren', \"weren't\", 'won', \"won't\", 'wouldn', \"wouldn't\"]\n"
     ]
    }
   ],
   "source": [
    "print(stopwords.words('english'))"
   ]
  },
  {
   "cell_type": "code",
   "execution_count": 4,
   "id": "2ad98e59",
   "metadata": {},
   "outputs": [],
   "source": [
    "news_dataset = pd.read_csv('train.csv')"
   ]
  },
  {
   "cell_type": "code",
   "execution_count": 5,
   "id": "06a4b88b",
   "metadata": {},
   "outputs": [
    {
     "data": {
      "text/plain": [
       "(20800, 5)"
      ]
     },
     "execution_count": 5,
     "metadata": {},
     "output_type": "execute_result"
    }
   ],
   "source": [
    "news_dataset.shape"
   ]
  },
  {
   "cell_type": "code",
   "execution_count": 6,
   "id": "0f95b259",
   "metadata": {},
   "outputs": [
    {
     "data": {
      "text/html": [
       "<div>\n",
       "<style scoped>\n",
       "    .dataframe tbody tr th:only-of-type {\n",
       "        vertical-align: middle;\n",
       "    }\n",
       "\n",
       "    .dataframe tbody tr th {\n",
       "        vertical-align: top;\n",
       "    }\n",
       "\n",
       "    .dataframe thead th {\n",
       "        text-align: right;\n",
       "    }\n",
       "</style>\n",
       "<table border=\"1\" class=\"dataframe\">\n",
       "  <thead>\n",
       "    <tr style=\"text-align: right;\">\n",
       "      <th></th>\n",
       "      <th>id</th>\n",
       "      <th>title</th>\n",
       "      <th>author</th>\n",
       "      <th>text</th>\n",
       "      <th>label</th>\n",
       "    </tr>\n",
       "  </thead>\n",
       "  <tbody>\n",
       "    <tr>\n",
       "      <th>0</th>\n",
       "      <td>0</td>\n",
       "      <td>House Dem Aide: We Didn’t Even See Comey’s Let...</td>\n",
       "      <td>Darrell Lucus</td>\n",
       "      <td>House Dem Aide: We Didn’t Even See Comey’s Let...</td>\n",
       "      <td>1</td>\n",
       "    </tr>\n",
       "    <tr>\n",
       "      <th>1</th>\n",
       "      <td>1</td>\n",
       "      <td>FLYNN: Hillary Clinton, Big Woman on Campus - ...</td>\n",
       "      <td>Daniel J. Flynn</td>\n",
       "      <td>Ever get the feeling your life circles the rou...</td>\n",
       "      <td>0</td>\n",
       "    </tr>\n",
       "    <tr>\n",
       "      <th>2</th>\n",
       "      <td>2</td>\n",
       "      <td>Why the Truth Might Get You Fired</td>\n",
       "      <td>Consortiumnews.com</td>\n",
       "      <td>Why the Truth Might Get You Fired October 29, ...</td>\n",
       "      <td>1</td>\n",
       "    </tr>\n",
       "    <tr>\n",
       "      <th>3</th>\n",
       "      <td>3</td>\n",
       "      <td>15 Civilians Killed In Single US Airstrike Hav...</td>\n",
       "      <td>Jessica Purkiss</td>\n",
       "      <td>Videos 15 Civilians Killed In Single US Airstr...</td>\n",
       "      <td>1</td>\n",
       "    </tr>\n",
       "    <tr>\n",
       "      <th>4</th>\n",
       "      <td>4</td>\n",
       "      <td>Iranian woman jailed for fictional unpublished...</td>\n",
       "      <td>Howard Portnoy</td>\n",
       "      <td>Print \\nAn Iranian woman has been sentenced to...</td>\n",
       "      <td>1</td>\n",
       "    </tr>\n",
       "  </tbody>\n",
       "</table>\n",
       "</div>"
      ],
      "text/plain": [
       "   id                                              title              author  \\\n",
       "0   0  House Dem Aide: We Didn’t Even See Comey’s Let...       Darrell Lucus   \n",
       "1   1  FLYNN: Hillary Clinton, Big Woman on Campus - ...     Daniel J. Flynn   \n",
       "2   2                  Why the Truth Might Get You Fired  Consortiumnews.com   \n",
       "3   3  15 Civilians Killed In Single US Airstrike Hav...     Jessica Purkiss   \n",
       "4   4  Iranian woman jailed for fictional unpublished...      Howard Portnoy   \n",
       "\n",
       "                                                text  label  \n",
       "0  House Dem Aide: We Didn’t Even See Comey’s Let...      1  \n",
       "1  Ever get the feeling your life circles the rou...      0  \n",
       "2  Why the Truth Might Get You Fired October 29, ...      1  \n",
       "3  Videos 15 Civilians Killed In Single US Airstr...      1  \n",
       "4  Print \\nAn Iranian woman has been sentenced to...      1  "
      ]
     },
     "execution_count": 6,
     "metadata": {},
     "output_type": "execute_result"
    }
   ],
   "source": [
    "news_dataset.head()"
   ]
  },
  {
   "cell_type": "code",
   "execution_count": 7,
   "id": "0357a279",
   "metadata": {},
   "outputs": [
    {
     "data": {
      "text/plain": [
       "id           0\n",
       "title      558\n",
       "author    1957\n",
       "text        39\n",
       "label        0\n",
       "dtype: int64"
      ]
     },
     "execution_count": 7,
     "metadata": {},
     "output_type": "execute_result"
    }
   ],
   "source": [
    "news_dataset.isnull().sum()"
   ]
  },
  {
   "cell_type": "code",
   "execution_count": 8,
   "id": "03c7cf29",
   "metadata": {},
   "outputs": [],
   "source": [
    "news_dataset = news_dataset.fillna('')"
   ]
  },
  {
   "cell_type": "code",
   "execution_count": 9,
   "id": "bf34dbba",
   "metadata": {},
   "outputs": [
    {
     "data": {
      "text/plain": [
       "id        0\n",
       "title     0\n",
       "author    0\n",
       "text      0\n",
       "label     0\n",
       "dtype: int64"
      ]
     },
     "execution_count": 9,
     "metadata": {},
     "output_type": "execute_result"
    }
   ],
   "source": [
    "news_dataset.isnull().sum()"
   ]
  },
  {
   "cell_type": "code",
   "execution_count": 10,
   "id": "a9462979",
   "metadata": {},
   "outputs": [],
   "source": [
    "news_dataset['content'] = news_dataset['author']+' '+news_dataset['title']+' '+news_dataset['text']"
   ]
  },
  {
   "cell_type": "code",
   "execution_count": 11,
   "id": "8928996c",
   "metadata": {},
   "outputs": [
    {
     "data": {
      "text/html": [
       "<div>\n",
       "<style scoped>\n",
       "    .dataframe tbody tr th:only-of-type {\n",
       "        vertical-align: middle;\n",
       "    }\n",
       "\n",
       "    .dataframe tbody tr th {\n",
       "        vertical-align: top;\n",
       "    }\n",
       "\n",
       "    .dataframe thead th {\n",
       "        text-align: right;\n",
       "    }\n",
       "</style>\n",
       "<table border=\"1\" class=\"dataframe\">\n",
       "  <thead>\n",
       "    <tr style=\"text-align: right;\">\n",
       "      <th></th>\n",
       "      <th>id</th>\n",
       "      <th>title</th>\n",
       "      <th>author</th>\n",
       "      <th>text</th>\n",
       "      <th>label</th>\n",
       "      <th>content</th>\n",
       "    </tr>\n",
       "  </thead>\n",
       "  <tbody>\n",
       "    <tr>\n",
       "      <th>0</th>\n",
       "      <td>0</td>\n",
       "      <td>House Dem Aide: We Didn’t Even See Comey’s Let...</td>\n",
       "      <td>Darrell Lucus</td>\n",
       "      <td>House Dem Aide: We Didn’t Even See Comey’s Let...</td>\n",
       "      <td>1</td>\n",
       "      <td>Darrell Lucus House Dem Aide: We Didn’t Even S...</td>\n",
       "    </tr>\n",
       "    <tr>\n",
       "      <th>1</th>\n",
       "      <td>1</td>\n",
       "      <td>FLYNN: Hillary Clinton, Big Woman on Campus - ...</td>\n",
       "      <td>Daniel J. Flynn</td>\n",
       "      <td>Ever get the feeling your life circles the rou...</td>\n",
       "      <td>0</td>\n",
       "      <td>Daniel J. Flynn FLYNN: Hillary Clinton, Big Wo...</td>\n",
       "    </tr>\n",
       "    <tr>\n",
       "      <th>2</th>\n",
       "      <td>2</td>\n",
       "      <td>Why the Truth Might Get You Fired</td>\n",
       "      <td>Consortiumnews.com</td>\n",
       "      <td>Why the Truth Might Get You Fired October 29, ...</td>\n",
       "      <td>1</td>\n",
       "      <td>Consortiumnews.com Why the Truth Might Get You...</td>\n",
       "    </tr>\n",
       "    <tr>\n",
       "      <th>3</th>\n",
       "      <td>3</td>\n",
       "      <td>15 Civilians Killed In Single US Airstrike Hav...</td>\n",
       "      <td>Jessica Purkiss</td>\n",
       "      <td>Videos 15 Civilians Killed In Single US Airstr...</td>\n",
       "      <td>1</td>\n",
       "      <td>Jessica Purkiss 15 Civilians Killed In Single ...</td>\n",
       "    </tr>\n",
       "    <tr>\n",
       "      <th>4</th>\n",
       "      <td>4</td>\n",
       "      <td>Iranian woman jailed for fictional unpublished...</td>\n",
       "      <td>Howard Portnoy</td>\n",
       "      <td>Print \\nAn Iranian woman has been sentenced to...</td>\n",
       "      <td>1</td>\n",
       "      <td>Howard Portnoy Iranian woman jailed for fictio...</td>\n",
       "    </tr>\n",
       "  </tbody>\n",
       "</table>\n",
       "</div>"
      ],
      "text/plain": [
       "   id                                              title              author  \\\n",
       "0   0  House Dem Aide: We Didn’t Even See Comey’s Let...       Darrell Lucus   \n",
       "1   1  FLYNN: Hillary Clinton, Big Woman on Campus - ...     Daniel J. Flynn   \n",
       "2   2                  Why the Truth Might Get You Fired  Consortiumnews.com   \n",
       "3   3  15 Civilians Killed In Single US Airstrike Hav...     Jessica Purkiss   \n",
       "4   4  Iranian woman jailed for fictional unpublished...      Howard Portnoy   \n",
       "\n",
       "                                                text  label  \\\n",
       "0  House Dem Aide: We Didn’t Even See Comey’s Let...      1   \n",
       "1  Ever get the feeling your life circles the rou...      0   \n",
       "2  Why the Truth Might Get You Fired October 29, ...      1   \n",
       "3  Videos 15 Civilians Killed In Single US Airstr...      1   \n",
       "4  Print \\nAn Iranian woman has been sentenced to...      1   \n",
       "\n",
       "                                             content  \n",
       "0  Darrell Lucus House Dem Aide: We Didn’t Even S...  \n",
       "1  Daniel J. Flynn FLYNN: Hillary Clinton, Big Wo...  \n",
       "2  Consortiumnews.com Why the Truth Might Get You...  \n",
       "3  Jessica Purkiss 15 Civilians Killed In Single ...  \n",
       "4  Howard Portnoy Iranian woman jailed for fictio...  "
      ]
     },
     "execution_count": 11,
     "metadata": {},
     "output_type": "execute_result"
    }
   ],
   "source": [
    "news_dataset.head()"
   ]
  },
  {
   "cell_type": "code",
   "execution_count": 12,
   "id": "d991e75a",
   "metadata": {},
   "outputs": [],
   "source": [
    "X = news_dataset.drop(columns='label', axis=1)\n",
    "Y = news_dataset['label']"
   ]
  },
  {
   "cell_type": "code",
   "execution_count": 13,
   "id": "ae4a1b2d",
   "metadata": {},
   "outputs": [
    {
     "name": "stdout",
     "output_type": "stream",
     "text": [
      "          id                                              title  \\\n",
      "0          0  House Dem Aide: We Didn’t Even See Comey’s Let...   \n",
      "1          1  FLYNN: Hillary Clinton, Big Woman on Campus - ...   \n",
      "2          2                  Why the Truth Might Get You Fired   \n",
      "3          3  15 Civilians Killed In Single US Airstrike Hav...   \n",
      "4          4  Iranian woman jailed for fictional unpublished...   \n",
      "...      ...                                                ...   \n",
      "20795  20795  Rapper T.I.: Trump a ’Poster Child For White S...   \n",
      "20796  20796  N.F.L. Playoffs: Schedule, Matchups and Odds -...   \n",
      "20797  20797  Macy’s Is Said to Receive Takeover Approach by...   \n",
      "20798  20798  NATO, Russia To Hold Parallel Exercises In Bal...   \n",
      "20799  20799                          What Keeps the F-35 Alive   \n",
      "\n",
      "                                          author  \\\n",
      "0                                  Darrell Lucus   \n",
      "1                                Daniel J. Flynn   \n",
      "2                             Consortiumnews.com   \n",
      "3                                Jessica Purkiss   \n",
      "4                                 Howard Portnoy   \n",
      "...                                          ...   \n",
      "20795                              Jerome Hudson   \n",
      "20796                           Benjamin Hoffman   \n",
      "20797  Michael J. de la Merced and Rachel Abrams   \n",
      "20798                                Alex Ansary   \n",
      "20799                              David Swanson   \n",
      "\n",
      "                                                    text  \\\n",
      "0      House Dem Aide: We Didn’t Even See Comey’s Let...   \n",
      "1      Ever get the feeling your life circles the rou...   \n",
      "2      Why the Truth Might Get You Fired October 29, ...   \n",
      "3      Videos 15 Civilians Killed In Single US Airstr...   \n",
      "4      Print \\nAn Iranian woman has been sentenced to...   \n",
      "...                                                  ...   \n",
      "20795  Rapper T. I. unloaded on black celebrities who...   \n",
      "20796  When the Green Bay Packers lost to the Washing...   \n",
      "20797  The Macy’s of today grew from the union of sev...   \n",
      "20798  NATO, Russia To Hold Parallel Exercises In Bal...   \n",
      "20799    David Swanson is an author, activist, journa...   \n",
      "\n",
      "                                                 content  \n",
      "0      Darrell Lucus House Dem Aide: We Didn’t Even S...  \n",
      "1      Daniel J. Flynn FLYNN: Hillary Clinton, Big Wo...  \n",
      "2      Consortiumnews.com Why the Truth Might Get You...  \n",
      "3      Jessica Purkiss 15 Civilians Killed In Single ...  \n",
      "4      Howard Portnoy Iranian woman jailed for fictio...  \n",
      "...                                                  ...  \n",
      "20795  Jerome Hudson Rapper T.I.: Trump a ’Poster Chi...  \n",
      "20796  Benjamin Hoffman N.F.L. Playoffs: Schedule, Ma...  \n",
      "20797  Michael J. de la Merced and Rachel Abrams Macy...  \n",
      "20798  Alex Ansary NATO, Russia To Hold Parallel Exer...  \n",
      "20799  David Swanson What Keeps the F-35 Alive   Davi...  \n",
      "\n",
      "[20800 rows x 5 columns]\n",
      "0        1\n",
      "1        0\n",
      "2        1\n",
      "3        1\n",
      "4        1\n",
      "        ..\n",
      "20795    0\n",
      "20796    0\n",
      "20797    0\n",
      "20798    1\n",
      "20799    1\n",
      "Name: label, Length: 20800, dtype: int64\n"
     ]
    }
   ],
   "source": [
    "print(X)\n",
    "print(Y)"
   ]
  },
  {
   "cell_type": "code",
   "execution_count": 14,
   "id": "6b69bd6b",
   "metadata": {},
   "outputs": [],
   "source": [
    "port_stem = PorterStemmer()"
   ]
  },
  {
   "cell_type": "code",
   "execution_count": 15,
   "id": "c4c35369",
   "metadata": {},
   "outputs": [],
   "source": [
    "def stemming(content):\n",
    "    stemmed_content = re.sub('[^a-zA-Z]',' ',content)\n",
    "    stemmed_content = stemmed_content.lower()\n",
    "    stemmed_content = stemmed_content.split()\n",
    "    stemmed_content = [port_stem.stem(word) for word in stemmed_content if not word in stopwords.words('english')]\n",
    "    stemmed_content = ' '.join(stemmed_content)\n",
    "    return stemmed_content"
   ]
  },
  {
   "cell_type": "code",
   "execution_count": 16,
   "id": "55d37aed",
   "metadata": {},
   "outputs": [
    {
     "name": "stdout",
     "output_type": "stream",
     "text": [
      "Darrell Lucus House Dem Aide: We Didn’t Even See Comey’s Letter Until Jason Chaffetz Tweeted It House Dem Aide: We Didn’t Even See Comey’s Letter Until Jason Chaffetz Tweeted It By Darrell Lucus on October 30, 2016 Subscribe Jason Chaffetz on the stump in American Fork, Utah ( image courtesy Michael Jolley, available under a Creative Commons-BY license) \n",
      "With apologies to Keith Olbermann, there is no doubt who the Worst Person in The World is this week–FBI Director James Comey. But according to a House Democratic aide, it looks like we also know who the second-worst person is as well. It turns out that when Comey sent his now-infamous letter announcing that the FBI was looking into emails that may be related to Hillary Clinton’s email server, the ranking Democrats on the relevant committees didn’t hear about it from Comey. They found out via a tweet from one of the Republican committee chairmen. \n",
      "As we now know, Comey notified the Republican chairmen and Democratic ranking members of the House Intelligence, Judiciary, and Oversight committees that his agency was reviewing emails it had recently discovered in order to see if they contained classified information. Not long after this letter went out, Oversight Committee Chairman Jason Chaffetz set the political world ablaze with this tweet. FBI Dir just informed me, \"The FBI has learned of the existence of emails that appear to be pertinent to the investigation.\" Case reopened \n",
      "— Jason Chaffetz (@jasoninthehouse) October 28, 2016 \n",
      "Of course, we now know that this was not the case . Comey was actually saying that it was reviewing the emails in light of “an unrelated case”–which we now know to be Anthony Weiner’s sexting with a teenager. But apparently such little things as facts didn’t matter to Chaffetz. The Utah Republican had already vowed to initiate a raft of investigations if Hillary wins–at least two years’ worth, and possibly an entire term’s worth of them. Apparently Chaffetz thought the FBI was already doing his work for him–resulting in a tweet that briefly roiled the nation before cooler heads realized it was a dud. \n",
      "But according to a senior House Democratic aide, misreading that letter may have been the least of Chaffetz’ sins. That aide told Shareblue that his boss and other Democrats didn’t even know about Comey’s letter at the time–and only found out when they checked Twitter. “Democratic Ranking Members on the relevant committees didn’t receive Comey’s letter until after the Republican Chairmen. In fact, the Democratic Ranking Members didn’ receive it until after the Chairman of the Oversight and Government Reform Committee, Jason Chaffetz, tweeted it out and made it public.” \n",
      "So let’s see if we’ve got this right. The FBI director tells Chaffetz and other GOP committee chairmen about a major development in a potentially politically explosive investigation, and neither Chaffetz nor his other colleagues had the courtesy to let their Democratic counterparts know about it. Instead, according to this aide, he made them find out about it on Twitter. \n",
      "There has already been talk on Daily Kos that Comey himself provided advance notice of this letter to Chaffetz and other Republicans, giving them time to turn on the spin machine. That may make for good theater, but there is nothing so far that even suggests this is the case. After all, there is nothing so far that suggests that Comey was anything other than grossly incompetent and tone-deaf. \n",
      "What it does suggest, however, is that Chaffetz is acting in a way that makes Dan Burton and Darrell Issa look like models of responsibility and bipartisanship. He didn’t even have the decency to notify ranking member Elijah Cummings about something this explosive. If that doesn’t trample on basic standards of fairness, I don’t know what does. \n",
      "Granted, it’s not likely that Chaffetz will have to answer for this. He sits in a ridiculously Republican district anchored in Provo and Orem; it has a Cook Partisan Voting Index of R+25, and gave Mitt Romney a punishing 78 percent of the vote in 2012. Moreover, the Republican House leadership has given its full support to Chaffetz’ planned fishing expedition. But that doesn’t mean we can’t turn the hot lights on him. After all, he is a textbook example of what the House has become under Republican control. And he is also the Second Worst Person in the World. About Darrell Lucus \n",
      "Darrell is a 30-something graduate of the University of North Carolina who considers himself a journalist of the old school. An attempt to turn him into a member of the religious right in college only succeeded in turning him into the religious right's worst nightmare--a charismatic Christian who is an unapologetic liberal. His desire to stand up for those who have been scared into silence only increased when he survived an abusive three-year marriage. You may know him on Daily Kos as Christian Dem in NC . Follow him on Twitter @DarrellLucus or connect with him on Facebook . Click here to buy Darrell a Mello Yello. Connect\n"
     ]
    }
   ],
   "source": [
    "print(news_dataset['content'][0])"
   ]
  },
  {
   "cell_type": "code",
   "execution_count": 17,
   "id": "0cc8e9c7",
   "metadata": {},
   "outputs": [
    {
     "name": "stdout",
     "output_type": "stream",
     "text": [
      "darrel lucu hous dem aid even see comey letter jason chaffetz tweet hous dem aid even see comey letter jason chaffetz tweet darrel lucu octob subscrib jason chaffetz stump american fork utah imag courtesi michael jolley avail creativ common licens apolog keith olbermann doubt worst person world week fbi director jame comey accord hous democrat aid look like also know second worst person well turn comey sent infam letter announc fbi look email may relat hillari clinton email server rank democrat relev committe hear comey found via tweet one republican committe chairmen know comey notifi republican chairmen democrat rank member hous intellig judiciari oversight committe agenc review email recent discov order see contain classifi inform long letter went oversight committe chairman jason chaffetz set polit world ablaz tweet fbi dir inform fbi learn exist email appear pertin investig case reopen jason chaffetz jasoninthehous octob cours know case comey actual say review email light unrel case know anthoni weiner sext teenag appar littl thing fact matter chaffetz utah republican alreadi vow initi raft investig hillari win least two year worth possibl entir term worth appar chaffetz thought fbi alreadi work result tweet briefli roil nation cooler head realiz dud accord senior hous democrat aid misread letter may least chaffetz sin aid told shareblu boss democrat even know comey letter time found check twitter democrat rank member relev committe receiv comey letter republican chairmen fact democrat rank member receiv chairman oversight govern reform committe jason chaffetz tweet made public let see got right fbi director tell chaffetz gop committe chairmen major develop potenti polit explos investig neither chaffetz colleagu courtesi let democrat counterpart know instead accord aid made find twitter alreadi talk daili ko comey provid advanc notic letter chaffetz republican give time turn spin machin may make good theater noth far even suggest case noth far suggest comey anyth grossli incompet tone deaf suggest howev chaffetz act way make dan burton darrel issa look like model respons bipartisanship even decenc notifi rank member elijah cum someth explos trampl basic standard fair know grant like chaffetz answer sit ridicul republican district anchor provo orem cook partisan vote index r gave mitt romney punish percent vote moreov republican hous leadership given full support chaffetz plan fish expedit mean turn hot light textbook exampl hous becom republican control also second worst person world darrel lucu darrel someth graduat univers north carolina consid journalist old school attempt turn member religi right colleg succeed turn religi right worst nightmar charismat christian unapologet liber desir stand scare silenc increas surviv abus three year marriag may know daili ko christian dem nc follow twitter darrelllucu connect facebook click buy darrel mello yello connect\n"
     ]
    }
   ],
   "source": [
    "temp = stemming(news_dataset['content'][0])\n",
    "print(temp)"
   ]
  },
  {
   "cell_type": "code",
   "execution_count": 18,
   "id": "33a34a24",
   "metadata": {},
   "outputs": [],
   "source": [
    "news_dataset['content'] = news_dataset['content'].apply(stemming)"
   ]
  },
  {
   "cell_type": "code",
   "execution_count": 19,
   "id": "47d250e4",
   "metadata": {},
   "outputs": [],
   "source": [
    "X = news_dataset['content'].values\n",
    "Y = news_dataset['label'].values"
   ]
  },
  {
   "cell_type": "code",
   "execution_count": 20,
   "id": "7e07ea7b",
   "metadata": {},
   "outputs": [
    {
     "name": "stdout",
     "output_type": "stream",
     "text": [
      "['darrel lucu hous dem aid even see comey letter jason chaffetz tweet hous dem aid even see comey letter jason chaffetz tweet darrel lucu octob subscrib jason chaffetz stump american fork utah imag courtesi michael jolley avail creativ common licens apolog keith olbermann doubt worst person world week fbi director jame comey accord hous democrat aid look like also know second worst person well turn comey sent infam letter announc fbi look email may relat hillari clinton email server rank democrat relev committe hear comey found via tweet one republican committe chairmen know comey notifi republican chairmen democrat rank member hous intellig judiciari oversight committe agenc review email recent discov order see contain classifi inform long letter went oversight committe chairman jason chaffetz set polit world ablaz tweet fbi dir inform fbi learn exist email appear pertin investig case reopen jason chaffetz jasoninthehous octob cours know case comey actual say review email light unrel case know anthoni weiner sext teenag appar littl thing fact matter chaffetz utah republican alreadi vow initi raft investig hillari win least two year worth possibl entir term worth appar chaffetz thought fbi alreadi work result tweet briefli roil nation cooler head realiz dud accord senior hous democrat aid misread letter may least chaffetz sin aid told shareblu boss democrat even know comey letter time found check twitter democrat rank member relev committe receiv comey letter republican chairmen fact democrat rank member receiv chairman oversight govern reform committe jason chaffetz tweet made public let see got right fbi director tell chaffetz gop committe chairmen major develop potenti polit explos investig neither chaffetz colleagu courtesi let democrat counterpart know instead accord aid made find twitter alreadi talk daili ko comey provid advanc notic letter chaffetz republican give time turn spin machin may make good theater noth far even suggest case noth far suggest comey anyth grossli incompet tone deaf suggest howev chaffetz act way make dan burton darrel issa look like model respons bipartisanship even decenc notifi rank member elijah cum someth explos trampl basic standard fair know grant like chaffetz answer sit ridicul republican district anchor provo orem cook partisan vote index r gave mitt romney punish percent vote moreov republican hous leadership given full support chaffetz plan fish expedit mean turn hot light textbook exampl hous becom republican control also second worst person world darrel lucu darrel someth graduat univers north carolina consid journalist old school attempt turn member religi right colleg succeed turn religi right worst nightmar charismat christian unapologet liber desir stand scare silenc increas surviv abus three year marriag may know daili ko christian dem nc follow twitter darrelllucu connect facebook click buy darrel mello yello connect'\n",
      " 'daniel j flynn flynn hillari clinton big woman campu breitbart ever get feel life circl roundabout rather head straight line toward intend destin hillari clinton remain big woman campu leafi liber wellesley massachusett everywher els vote like inaugur dress remaind day way miss havisham forev wore wed dress speak great expect hillari rodham overflow year ago first address wellesley graduat class presid colleg inform gather student need debat far could ascertain spokesman kind like democrat primari minu term unknown even seven sister school glad miss adam made clear speak today us us miss rodham told classmat appoint edger bergen charli mccarthi mortim snerd attend bespectacl granni glass award matronli wisdom least john lennon wisdom took issu previou speaker despit becom first win elect seat u senat sinc reconstruct edward brook came critic call empathi goal protestor critic tactic though clinton senior thesi saul alinski lament black power demagogu elitist arrog repress intoler within new left similar word come republican necessit brief rebutt trust rodham iron observ one word ask class rehears want say everyon came said talk trust talk lack trust us way feel other talk trust bust say say feel permeat gener perhap even understood distrust trust bust certainli bust clinton plan certainli even understand peopl distrust whitewat travelg vast conspiraci benghazi miss email clinton found distrust voic friday load compromis road broaden polit horizon distrust american peopl trump edg percent percent question immedi prior novemb elect stood major reason close horizon clinton describ vanquish support embrac lie con altern fact assault truth reason fail explain american peopl chose lie truth histori major among today know well peopl power invent fact attack question mark begin end free societi offer hyperbol like mani peopl emerg hillari clinton embark upon long strang trip high school goldwat girl wellesley colleg republican presid democrat politician clinton drank time place gave degre significantli went idealist cynic comparison two wellesley commenc address show way back lament long leader view polit art possibl challeng practic polit art make appear imposs possibl big woman campu odd woman white hous wonder current station even possibl point ahead ask septemb may ask presid woman famous dub congenit liar bill safir conclud lie mind get stood elect day like find jilt bride wed day inspir danger delus'\n",
      " 'consortiumnew com truth might get fire truth might get fire octob tension intellig analyst polit policymak alway honest assess desir result latter often overwhelm former iraq war write lawrenc davidson lawrenc davidson might wonder foreign polici maker repeatedli make bad choic insight might drawn follow analysi action play unit state lesson probabl univers back earli spring georg w bush initi invas iraq one key public reason claim countri dictat saddam hussein verg develop nuclear weapon hide weapon mass destruct real reason went beyond charg includ long rang plan regim chang middl east presid georg w bush vice presid dick cheney receiv oval offic brief cia director georg tenet also present chief staff andi card right white hous photo purpos concentr belief iraq becom hostil nuclear power presid bush close associ accept scenario readili short answer bush want inde need believ rational invad iraq first tri connect saddam hussein attack u though never gave stratagem lack evid made difficult ralli american peopl alreadi fixat afghanistan support war baghdad nuclear weapon gambit prove fruit hard evid charg supposedli reliabl wit person exil anti saddam iraqi mani u govern payrol kept tell bush advis nuclear stori true u leadership cadr whose worldview liter demand mortal danger iraq inform order precipit overthrow saddam will tell tale pend atom weapon strong desir believ tale nuclear iraq lower threshold proof likewis repeat assert assum depend iraqi sourc underpin nationwid u campaign gener fear war fever u alli insist unit nation send weapon inspector scour iraq evid nuclear weapon program well chemic biolog weapon inspector could find convinc evid frustrat bush administr soon forc hand march bush launch invas iraq expect occup countri u inspector would sure find evid nuke least stockpil chemic biolog weapon iraqi inform systemat lie social behavior scienc rescu variou u intellig agenc thoroughli shaken affair today year later director manag still tri sort specif tell get true intellig lie one intellig worker put need help protect us armi snake oil salesmen end cia et al market academ assist ahm chalabi head iraqi nation congress key supplier iraqi defector bogu stori hidden wmd partnership forg offic director nation intellig odni serv coordin center sixteen independ u intellig agenc nation academi scienc engin medicin result collabor perman intellig commun studi board coordin program social behavior scienc research might strengthen nation secur despit effort almost certain social behavior scienc cannot give spi agenc want way detect lie better present standard procedur polygraph test interrog even could might well make differ real problem found liar found believ believ simpli true odni leader seem assert u intellig agenc personnel cannot tell often lie case thousand middl echelon intellig worker desk offic specialist know someth close approach truth know pretti well go place like afghanistan iraq syria libya israel palestin elsewher director nation intellig jame clapper right talk presid barack obama oval offic john brennan nation secur aid present photo credit offic director nation intellig therefor someon feed snake oil usual know howev accur grasp thing often avail superior got appoint accept pre structur worldview differ criterion true analyst listen charl gaukel nation intellig council yet anoth organ act meet ground intellig agenc refer search way avoid get taken lie gaukel declar look truth particularli look truth work might mean certainli tell mean histor mean power broker truth must match fit worldview polit ideolog precept fit work intellig specialist send usual accur assess line polici maker often hit roadblock caus group think ideolog blinker know better attitud hand long sell leadership match want believ peddl anyth imaginari iraqi nuke israel western style democraci saudi arabia indispens alli libya liber countri bashar al assad real roadblock peac syria strateg defens initi sdi aka star war world get colder warmer american exception glori list almost endless sad tale tell us want spend million dollar social behavior scienc research improv assess use intellig forget liar want look antidot narrow minded believ policymak seem abl rise ideolog presumpt class presumpt underpin self confid lead us slipperi slope happen way often mani place sourc shakespear determin past prelud elit play destini free capac break structur way see yet middl echelon specialist keep send rel accur assess ladder power hope spring etern'\n",
      " ...\n",
      " 'michael j de la merc rachel abram maci said receiv takeov approach hudson bay new york time maci today grew union sever great name american retail includ namesak chain bloomingdal marshal field ambiti owner sak fifth avenu broach idea take union even combin maci creat depart store juggernaut time industri reel hudson bay compani canadian owner sak approach maci potenti takeov peopl brief matter author speak publicli said friday talk two compani earli stage may still fall apart lead partnership kind rather sale unclear whether deal happen combin could lift fortun maci countri biggest depart store struggl investor certainli appear see way share maci rose much percent friday biggest intraday gain sinc aug accord data bloomberg retail titan maci struggl remain relev discount retail decim tradit busi last month maci announc plan cut job close store terri lundgren chief execut architect maci last big merger expect step end march succeed compani presid jeffrey gennett sinc recess shopper grown accustom hunt bargain pay full price discount store outlet mall flourish tradit store compel respond trim price cut margin depart store hit especi hard particularli shopper migrat away mall emerg analyst say virtual race bottom particularli difficult maci born seri merger past two decad made juggernaut industri stalwart middl tier retail compani neither advantag retail like hm store addit maci face increasingli fierc competit onlin site like amazon elsewher maci troubl drawn attent promin activist hedg fund starboard valu urg compani gener cash sell real estat beneath store starboard held percent maci share sept previous estim valu land billion friday analyst citigroup estim maci hold could worth least billion maci market valu comparison billion friday morn maci taken step sell redevelop store last year ad expert real estat transact board compani larg resist ambiti effort divest real estat includ deal compani sell underli land beneath store rent back compani suitor hudson bay compani far smaller market valu billion canadian dollar billion known bold step hudson bay compani assembl grow empir includ hudson bay depart store chain lord taylor crown jewel sak governor execut chairman hudson bay compani richard baker shown littl fear use debt novemb compani borrow nearli billion sak flagship midtown manhattan spoken often retail need highlight valu real estat financ bid maci may trickier howev carri billion debt may mean hudson bay compani bring partner borrow real estat hold spokesman hudson bay compani declin comment talk report earlier wall street journal comment rumor specul repres maci said repres starboard valu respond request comment analyst said saw merit potenti combin particularli given maci oper woe mr baker expertis wring money real estat clear logic despit dispar cap maci hudson bay compani craig johnson presid custom growth partner research firm said note refer maci stock ticker symbol ad retail market chang faster abl keep whether flight mall migrat onlin'\n",
      " 'alex ansari nato russia hold parallel exercis balkan nato russia hold parallel exercis balkan press tv russia militari nato forc hold parallel militari exercis two neighbor balkan countri russian troop particip war game serbia nato conduct militari drill montenegro media report monday russian forc day militari exercis serbia name slavic brotherhood begin wednesday includ russian paratroop air forc staffer three transport plane unspecifi number troop serbia belaru russia defens ministri said five day nato drill montenegro start monday involv respond flood chemic attack involv unarm personnel seven nato countri partner state past serbia montenegro constitut republ socialist feder republ yugoslavia countri socialist republ tradit russian christian orthodox alli state union form serbia montenegro two becam independ state sinc split two balkan neighbor seem head differ direct strateg montenegro taken pro western stanc award nato offer join northern atlant allianc nato invit montenegro met strong opposit russia meanwhil montenegrin offici accus russia stage alleg coup octob toppl pro western govern nato access bid serbia nato partner held exercis western allianc larg one foreign troop equip particip soil'\n",
      " 'david swanson keep f aliv david swanson author activist journalist radio host nobel peac prize nomine director worldbeyondwar com campaign coordin rootsact org host talk nation radio talk nation radio vt radio syndic pacifica network show also air wtju charlottesvil va wcsx detroit mi kghi westport wa whu storr ct wprr grand rapid mi krfp lp moscow id kzgm cabool mo kmud garbervil ca wazu peoria il wxrd crown point geneva radio geneva ny kkrn round mountain ca kskq lp ashland wuow lp oneonta ny lie radio pinol ca wyap lp clay wv detour johnson citi tn wzrd chicago il weft champaign il wxpi pittsburgh pa wdrt viroqua wi verac onlin liberti justic radio shirley ithaca commun radio ithaca ny wmcb greenfield prx org kao fm olympia wa wusb fm stoni brook ny wool fm bellow fall vermont wslr lp sarasota florida also blog davidswanson org warisacrim org prolif author latest book war lie daybreak undo imperi presid form perfect union world outlaw war swanson hold master degre philosophi univers virginia work newspap report commun director job includ press secretari denni kucinich presidenti campaign media coordin intern labor commun associ three year commun coordin acorn associ commun organ reform read full complet biographi davidswanson org also visit book site war crime keep f aliv david swanson octob petit stop f go global david swanson imagin local busi town invent brand new tool intend almost magic effect thousand mile away howev tool kept use local becam area unsaf children children got near tool tend increas blood pressur increas stress hormon lower read skill poorer memori impair auditori speech percept impair academ perform us would find situat least littl concern unless new invent design murder lot peopl fine imagin new tool ruin neighborhood peopl safe live near imagin govern compens peopl kick live near locat tool think might find troubl mass murder mission imagin also tool fairli frequent explod emit highli toxic chemic particl fiber unsaf breath air mile around normal problem tool need kill lot peopl work flaw new gadget expect cost least year money taken away numer expens benefici economi world trillion drain economi caus loss job radic diminuit resourc educ healthcar hous environment protect humanitarian aid worri case mean case abil kill ton human be stake product even work perfectli lead destroy earth natur environ high tech toy even design expect even abl design amazingli even shortcom matter long intent massiv murder destruct forgiven tool describ call f rootsact org find new petit launch local mind peopl act global place f intend base also link find explan tool decrib f petit direct unit state congress govern australia itali netherland norway turkey unit kingdom israel japan south korea world peopl burlington vermont fairbank alaska f base effort initi vermont stop f coalit save sky vermont western main matter alaska peac center univers alaska fairbank peac club north star chapter veteran peac world beyond war rootsact org code pink ben cohen petit read f weapon offens war serv defens purpos plan cost u trillion year starvat earth could end billion lack clean drink water billion per year first foremost wast resourc airplan kill militari spend contrari popular misconcept also hurt u economi see economi f caus neg health impact cognit impair children live near base render hous near airport unsuit residenti use high crash rate horribl consequ live area crash emiss major environment pollut war endang unit state particip nation rather protect nonviol tool law diplomaci aid crisi prevent verifi nuclear disarma substitut continu counterproduct war therefor undersign call immedi cancel f program whole immedi cancel plan base danger noisi jet near popul area oppos replac f weapon base f locat demand redirect money f back taxpay pocket environment human need u f custom nation around world includ fight climat chang pay student debt rebuild crumbl infrastructur improv educ healthcar hous add name david swanson author activist journalist radio host director worldbeyondwar org campaign coordin rootsact org swanson book includ war lie blog davidswanson org warisacrim org host talk nation radio nobel peac prize nomine follow twitter davidcnswanson facebook help support davidswanson org warisacrim org talknationradio org click http davidswanson org donat']\n"
     ]
    }
   ],
   "source": [
    "print(X)"
   ]
  },
  {
   "cell_type": "code",
   "execution_count": 21,
   "id": "1463b3cc",
   "metadata": {},
   "outputs": [
    {
     "name": "stdout",
     "output_type": "stream",
     "text": [
      "[1 0 1 ... 0 1 1]\n"
     ]
    }
   ],
   "source": [
    "print(Y)"
   ]
  },
  {
   "cell_type": "code",
   "execution_count": 22,
   "id": "db3c2414",
   "metadata": {},
   "outputs": [],
   "source": [
    "vectorizer = TfidfVectorizer()\n",
    "vectorizer.fit(X)\n",
    "\n",
    "X = vectorizer.transform(X)"
   ]
  },
  {
   "cell_type": "code",
   "execution_count": 23,
   "id": "a5cfda37",
   "metadata": {},
   "outputs": [
    {
     "name": "stdout",
     "output_type": "stream",
     "text": [
      "  (0, 109752)\t0.049158312425168854\n",
      "  (0, 109697)\t0.0190646711515277\n",
      "  (0, 108742)\t0.04416544119908134\n",
      "  (0, 108738)\t0.09477494042884232\n",
      "  (0, 108695)\t0.03758488097939004\n",
      "  (0, 108658)\t0.01130614774071694\n",
      "  (0, 108007)\t0.017092546683505856\n",
      "  (0, 107190)\t0.017105936674103112\n",
      "  (0, 107099)\t0.012543234221230963\n",
      "  (0, 107013)\t0.029126417104928328\n",
      "  (0, 106934)\t0.012863319680563097\n",
      "  (0, 106734)\t0.011771716334271506\n",
      "  (0, 105884)\t0.025727197929110487\n",
      "  (0, 105848)\t0.031296701378124764\n",
      "  (0, 104837)\t0.02153649554212262\n",
      "  (0, 103422)\t0.06544555398259812\n",
      "  (0, 102736)\t0.03314918847150756\n",
      "  (0, 102485)\t0.01639612818098454\n",
      "  (0, 101717)\t0.038071924979380216\n",
      "  (0, 101077)\t0.011082403436475742\n",
      "  (0, 101067)\t0.0432044670628921\n",
      "  (0, 101014)\t0.13602128375819167\n",
      "  (0, 100866)\t0.0713092337063475\n",
      "  (0, 99577)\t0.03944988916619374\n",
      "  (0, 99009)\t0.027120358929731154\n",
      "  :\t:\n",
      "  (20799, 7470)\t0.010635431711878486\n",
      "  (20799, 7143)\t0.02816704434978389\n",
      "  (20799, 6848)\t0.03959171777516513\n",
      "  (20799, 6810)\t0.025365585564187044\n",
      "  (20799, 6530)\t0.0423980387875893\n",
      "  (20799, 6084)\t0.0315457284306667\n",
      "  (20799, 5872)\t0.04632206994759717\n",
      "  (20799, 5517)\t0.024097152410748182\n",
      "  (20799, 5242)\t0.045417670739832466\n",
      "  (20799, 3271)\t0.03446674804290047\n",
      "  (20799, 3042)\t0.05007515404726805\n",
      "  (20799, 2955)\t0.015323407277242013\n",
      "  (20799, 2713)\t0.047800235719237465\n",
      "  (20799, 2294)\t0.08924712342400702\n",
      "  (20799, 1997)\t0.023153895918351708\n",
      "  (20799, 1995)\t0.029380105887880807\n",
      "  (20799, 1952)\t0.03330998179427733\n",
      "  (20799, 1886)\t0.033768770862532556\n",
      "  (20799, 1027)\t0.01893705656098481\n",
      "  (20799, 903)\t0.038248338479231606\n",
      "  (20799, 873)\t0.013807510861685218\n",
      "  (20799, 815)\t0.041753611202768166\n",
      "  (20799, 559)\t0.024511273226368112\n",
      "  (20799, 323)\t0.015366447869656087\n",
      "  (20799, 305)\t0.019031597510308154\n"
     ]
    }
   ],
   "source": [
    "print(X)"
   ]
  },
  {
   "cell_type": "code",
   "execution_count": 24,
   "id": "f23ad347",
   "metadata": {},
   "outputs": [],
   "source": [
    "X_train, X_test, Y_train, Y_test = train_test_split(X, Y, test_size = 0.2, stratify=Y, random_state=2)"
   ]
  },
  {
   "cell_type": "code",
   "execution_count": 25,
   "id": "0be2dac7",
   "metadata": {},
   "outputs": [],
   "source": [
    "model = LogisticRegression()"
   ]
  },
  {
   "cell_type": "code",
   "execution_count": 26,
   "id": "4ae99e38",
   "metadata": {},
   "outputs": [
    {
     "data": {
      "text/plain": [
       "LogisticRegression()"
      ]
     },
     "execution_count": 26,
     "metadata": {},
     "output_type": "execute_result"
    }
   ],
   "source": [
    "model.fit(X_train, Y_train)"
   ]
  },
  {
   "cell_type": "code",
   "execution_count": 27,
   "id": "4a6342bc",
   "metadata": {},
   "outputs": [],
   "source": [
    "X_train_prediction = model.predict(X_train)\n",
    "training_data_accuracy = accuracy_score(X_train_prediction, Y_train)"
   ]
  },
  {
   "cell_type": "code",
   "execution_count": 28,
   "id": "cb2ecb9c",
   "metadata": {},
   "outputs": [
    {
     "name": "stdout",
     "output_type": "stream",
     "text": [
      "Accuracy score of the training data :  0.9798677884615384\n"
     ]
    }
   ],
   "source": [
    "print('Accuracy score of the training data : ', training_data_accuracy)"
   ]
  },
  {
   "cell_type": "code",
   "execution_count": 31,
   "id": "0a4a8cdd",
   "metadata": {},
   "outputs": [
    {
     "name": "stdout",
     "output_type": "stream",
     "text": [
      "[0]\n",
      "The news is Real\n"
     ]
    }
   ],
   "source": [
    "X_new = X_test[4]\n",
    "\n",
    "prediction = model.predict(X_new)\n",
    "print(prediction)\n",
    "\n",
    "if (prediction[0]==0):\n",
    "  print('The news is Real')\n",
    "else:\n",
    "  print('The news is Fake')"
   ]
  },
  {
   "cell_type": "code",
   "execution_count": 32,
   "id": "652be621",
   "metadata": {},
   "outputs": [
    {
     "name": "stdout",
     "output_type": "stream",
     "text": [
      "0\n"
     ]
    }
   ],
   "source": [
    "print(Y_test[4])"
   ]
  },
  {
   "cell_type": "code",
   "execution_count": 33,
   "id": "45b2a59a",
   "metadata": {},
   "outputs": [],
   "source": [
    "X_test_prediction = model.predict(X_test)\n",
    "test_data_accuracy = accuracy_score(X_test_prediction, Y_test)"
   ]
  },
  {
   "cell_type": "code",
   "execution_count": 35,
   "id": "bd45a6c5",
   "metadata": {},
   "outputs": [
    {
     "name": "stdout",
     "output_type": "stream",
     "text": [
      "Accuracy score of the test data :  0.9543269230769231\n"
     ]
    }
   ],
   "source": [
    "print('Accuracy score of the test data : ', test_data_accuracy)"
   ]
  },
  {
   "cell_type": "code",
   "execution_count": null,
   "id": "8dc5eee3",
   "metadata": {},
   "outputs": [],
   "source": []
  }
 ],
 "metadata": {
  "kernelspec": {
   "display_name": "Python 3 (ipykernel)",
   "language": "python",
   "name": "python3"
  },
  "language_info": {
   "codemirror_mode": {
    "name": "ipython",
    "version": 3
   },
   "file_extension": ".py",
   "mimetype": "text/x-python",
   "name": "python",
   "nbconvert_exporter": "python",
   "pygments_lexer": "ipython3",
   "version": "3.9.7"
  }
 },
 "nbformat": 4,
 "nbformat_minor": 5
}
